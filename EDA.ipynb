{
 "cells": [
  {
   "cell_type": "markdown",
   "metadata": {},
   "source": [
    "# Análisis Exploratorio de Datos (EDA)\n",
    "\n",
    "Este notebook realiza un análisis exploratorio básico del dataset de anuncios de vehículos utilizando **pandas** y **plotly-express**.\n",
    "\n",
    "Se asume que el archivo de datos se llama `train.csv` y se encuentra en la carpeta raíz del proyecto."
   ]
  },
  {
   "cell_type": "code",
   "execution_count": null,
   "metadata": {},
   "outputs": [],
   "source": [
    "import pandas as pd\n",
    "import plotly.express as px\n",
    "\n",
    "# Cargar el dataset (ajusta la ruta si es necesario)\n",
    "df = pd.read_csv(\"../train.csv\")\n",
    "df.head()"
   ]
  },
  {
   "cell_type": "markdown",
   "metadata": {},
   "source": [
    "## Histograma\n",
    "\n",
    "Se genera un histograma de la columna `odometer` si existe; en caso contrario, se utiliza la primera columna del dataset."
   ]
  },
  {
   "cell_type": "code",
   "execution_count": null,
   "metadata": {},
   "outputs": [],
   "source": [
    "if 'odometer' in df.columns:\n",
    "    fig_hist = px.histogram(df, x='odometer', title='Histograma de Odómetro')\n",
    "else:\n",
    "    fig_hist = px.histogram(df, x=df.columns[0], title=f'Histograma de {df.columns[0]}')\n",
    "\n",
    "fig_hist.show()"
   ]
  },
  {
   "cell_type": "markdown",
   "metadata": {},
   "source": [
    "## Gráfico de Dispersión\n",
    "\n",
    "Se genera un gráfico de dispersión relacionando `odometer` y `price`, siempre que ambas columnas existan en el dataset."
   ]
  },
  {
   "cell_type": "code",
   "execution_count": null,
   "metadata": {},
   "outputs": [],
   "source": [
    "if 'odometer' in df.columns and 'price' in df.columns:\n",
    "    fig_scatter = px.scatter(df, x='odometer', y='price', title='Precio vs Odómetro')\n",
    "    fig_scatter.show()\n",
    "else:\n",
    "    print(\"No se encontraron las columnas 'odometer' y 'price' en el dataset.\")"
   ]
  }
 ],
 "metadata": {
  "kernelspec": {
   "display_name": "Python 3 (ipykernel)",
   "language": "python",
   "name": "python3"
  },
  "language_info": {
   "codemirror_mode": {
    "name": "ipython",
    "version": 3
   },
   "file_extension": ".py",
   "mimetype": "text/x-python",
   "name": "python",
   "nbconvert_exporter": "python",
   "pygments_lexer": "ipython3",
   "version": "3.12.7"
  }
 },
 "nbformat": 4,
 "nbformat_minor": 4
}
